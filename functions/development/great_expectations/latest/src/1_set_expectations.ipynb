{
 "cells": [
  {
   "cell_type": "code",
   "execution_count": 1,
   "id": "b68afbc1",
   "metadata": {},
   "outputs": [],
   "source": [
    "import mlrun\n",
    "import pandas as pd\n",
    "from great_expectations.core.batch import RuntimeBatchRequest\n",
    "from great_expectations.data_context import BaseDataContext\n",
    "from great_expectations.data_context.types.base import (\n",
    "    DataContextConfig,\n",
    "    FilesystemStoreBackendDefaults,\n",
    ")"
   ]
  },
  {
   "cell_type": "code",
   "execution_count": 2,
   "id": "7ff4fcf1",
   "metadata": {},
   "outputs": [
    {
     "name": "stdout",
     "output_type": "stream",
     "text": [
      "> 2022-12-19 17:55:43,434 [info] Created and saved project great-expectations: {'from_template': None, 'overwrite': False, 'context': './', 'save': True}\n",
      "> 2022-12-19 17:55:43,436 [info] created project great-expectations and saved in MLRun DB\n"
     ]
    }
   ],
   "source": [
    "project = mlrun.get_or_create_project(\"great-expectations\", context=\"./\")"
   ]
  },
  {
   "cell_type": "markdown",
   "id": "f6d2dac5",
   "metadata": {},
   "source": [
    "### Config"
   ]
  },
  {
   "cell_type": "code",
   "execution_count": 3,
   "id": "5ed4384e",
   "metadata": {},
   "outputs": [],
   "source": [
    "data_asset_name = \"iris_dataset\"\n",
    "data_path = \"https://s3.wasabisys.com/iguazio/data/iris/iris.data.raw.csv\"\n",
    "expectation_suite_name = \"test_suite\"\n",
    "root_directory = f\"/v3io/projects/{project.name}/great_expectations\""
   ]
  },
  {
   "cell_type": "markdown",
   "id": "14742a4e",
   "metadata": {},
   "source": [
    "### Intialize Great Expectations Context"
   ]
  },
  {
   "cell_type": "code",
   "execution_count": 4,
   "id": "cc930e4d",
   "metadata": {},
   "outputs": [],
   "source": [
    "ge_context = BaseDataContext(\n",
    "    project_config=DataContextConfig(\n",
    "        store_backend_defaults=FilesystemStoreBackendDefaults(\n",
    "            root_directory=root_directory\n",
    "        )\n",
    "    )\n",
    ")"
   ]
  },
  {
   "cell_type": "markdown",
   "id": "8d6403d0",
   "metadata": {},
   "source": [
    "### Add Pandas Datasource"
   ]
  },
  {
   "cell_type": "code",
   "execution_count": 5,
   "id": "0ac02825",
   "metadata": {},
   "outputs": [],
   "source": [
    "datasource_name = \"pandas_datasource\"\n",
    "data_connector_name = \"default_runtime_data_connector_name\""
   ]
  },
  {
   "cell_type": "code",
   "execution_count": 6,
   "id": "fc2911c6",
   "metadata": {},
   "outputs": [],
   "source": [
    "datasource_config = {\n",
    "    \"name\": f\"{datasource_name}\",\n",
    "    \"class_name\": \"Datasource\",\n",
    "    \"module_name\": \"great_expectations.datasource\",\n",
    "    \"execution_engine\": {\n",
    "        \"module_name\": \"great_expectations.execution_engine\",\n",
    "        \"class_name\": \"PandasExecutionEngine\",\n",
    "    },\n",
    "    \"data_connectors\": {\n",
    "        f\"{data_connector_name}\": {\n",
    "            \"class_name\": \"RuntimeDataConnector\",\n",
    "            \"module_name\": \"great_expectations.datasource.data_connector\",\n",
    "            \"batch_identifiers\": [\"default_identifier_name\"],\n",
    "        },\n",
    "    },\n",
    "}"
   ]
  },
  {
   "cell_type": "code",
   "execution_count": 7,
   "id": "370c07b2",
   "metadata": {},
   "outputs": [
    {
     "data": {
      "text/plain": [
       "<great_expectations.datasource.new_datasource.Datasource at 0x7f017bc8ff90>"
      ]
     },
     "execution_count": 7,
     "metadata": {},
     "output_type": "execute_result"
    }
   ],
   "source": [
    "ge_context.add_datasource(**datasource_config)"
   ]
  },
  {
   "cell_type": "markdown",
   "id": "d431260b",
   "metadata": {},
   "source": [
    "### Create Expectation Suite"
   ]
  },
  {
   "cell_type": "code",
   "execution_count": 8,
   "id": "8a856743",
   "metadata": {},
   "outputs": [
    {
     "data": {
      "text/plain": [
       "{\n",
       "  \"data_asset_type\": null,\n",
       "  \"expectation_suite_name\": \"test_suite\",\n",
       "  \"expectations\": [],\n",
       "  \"meta\": {\n",
       "    \"great_expectations_version\": \"0.15.41\"\n",
       "  },\n",
       "  \"ge_cloud_id\": null\n",
       "}"
      ]
     },
     "execution_count": 8,
     "metadata": {},
     "output_type": "execute_result"
    }
   ],
   "source": [
    "ge_context.create_expectation_suite(\n",
    "    expectation_suite_name=expectation_suite_name, overwrite_existing=True\n",
    ")"
   ]
  },
  {
   "cell_type": "markdown",
   "id": "95578e3e",
   "metadata": {},
   "source": [
    "### Get Data Batch"
   ]
  },
  {
   "cell_type": "code",
   "execution_count": 9,
   "id": "be2281f3",
   "metadata": {},
   "outputs": [],
   "source": [
    "df = pd.read_csv(data_path)"
   ]
  },
  {
   "cell_type": "code",
   "execution_count": 10,
   "id": "99ed811f",
   "metadata": {},
   "outputs": [],
   "source": [
    "batch_request = RuntimeBatchRequest(\n",
    "    datasource_name=datasource_name,\n",
    "    data_connector_name=data_connector_name,\n",
    "    data_asset_name=data_asset_name,\n",
    "    runtime_parameters={\"batch_data\": df},\n",
    "    batch_identifiers={\"default_identifier_name\": \"default_identifier\"},\n",
    ")"
   ]
  },
  {
   "cell_type": "markdown",
   "id": "1e90a0cc",
   "metadata": {},
   "source": [
    "### Get Validator"
   ]
  },
  {
   "cell_type": "code",
   "execution_count": 11,
   "id": "f181072c",
   "metadata": {},
   "outputs": [],
   "source": [
    "validator = ge_context.get_validator(\n",
    "    batch_request=batch_request,\n",
    "    expectation_suite_name=expectation_suite_name,\n",
    ")"
   ]
  },
  {
   "cell_type": "markdown",
   "id": "e003929e",
   "metadata": {},
   "source": [
    "### Add Expectations"
   ]
  },
  {
   "cell_type": "code",
   "execution_count": 12,
   "id": "23e70896",
   "metadata": {},
   "outputs": [
    {
     "data": {
      "application/vnd.jupyter.widget-view+json": {
       "model_id": "926e65efc02442dc8bd06bd94bec0661",
       "version_major": 2,
       "version_minor": 0
      },
      "text/plain": [
       "Calculating Metrics:   0%|          | 0/6 [00:00<?, ?it/s]"
      ]
     },
     "metadata": {},
     "output_type": "display_data"
    },
    {
     "data": {
      "application/vnd.jupyter.widget-view+json": {
       "model_id": "53e21efede9142fda709d146c0edda05",
       "version_major": 2,
       "version_minor": 0
      },
      "text/plain": [
       "Calculating Metrics:   0%|          | 0/6 [00:00<?, ?it/s]"
      ]
     },
     "metadata": {},
     "output_type": "display_data"
    },
    {
     "data": {
      "application/vnd.jupyter.widget-view+json": {
       "model_id": "066c9f402c2945d08f5190c0bc0399fb",
       "version_major": 2,
       "version_minor": 0
      },
      "text/plain": [
       "Calculating Metrics:   0%|          | 0/8 [00:00<?, ?it/s]"
      ]
     },
     "metadata": {},
     "output_type": "display_data"
    },
    {
     "data": {
      "application/vnd.jupyter.widget-view+json": {
       "model_id": "86c7107e1a954d678f7d27e2110c7e11",
       "version_major": 2,
       "version_minor": 0
      },
      "text/plain": [
       "Calculating Metrics:   0%|          | 0/8 [00:00<?, ?it/s]"
      ]
     },
     "metadata": {},
     "output_type": "display_data"
    },
    {
     "data": {
      "text/plain": [
       "{\n",
       "  \"exception_info\": {\n",
       "    \"raised_exception\": false,\n",
       "    \"exception_traceback\": null,\n",
       "    \"exception_message\": null\n",
       "  },\n",
       "  \"success\": true,\n",
       "  \"meta\": {},\n",
       "  \"result\": {\n",
       "    \"element_count\": 150,\n",
       "    \"unexpected_count\": 0,\n",
       "    \"unexpected_percent\": 0.0,\n",
       "    \"partial_unexpected_list\": [],\n",
       "    \"missing_count\": 0,\n",
       "    \"missing_percent\": 0.0,\n",
       "    \"unexpected_percent_total\": 0.0,\n",
       "    \"unexpected_percent_nonmissing\": 0.0\n",
       "  }\n",
       "}"
      ]
     },
     "execution_count": 12,
     "metadata": {},
     "output_type": "execute_result"
    }
   ],
   "source": [
    "validator.expect_column_values_to_not_be_null(column=\"sepal length (cm)\")\n",
    "validator.expect_column_values_to_not_be_null(column=\"sepal width (cm)\")\n",
    "validator.expect_column_values_to_be_between(\n",
    "    column=\"sepal length (cm)\", min_value=0, max_value=5\n",
    ")\n",
    "validator.expect_column_values_to_be_between(\n",
    "    column=\"sepal width (cm)\", min_value=2, max_value=4.4\n",
    ")"
   ]
  },
  {
   "cell_type": "markdown",
   "id": "6f6e15d1",
   "metadata": {},
   "source": [
    "### Save Expectation Suite"
   ]
  },
  {
   "cell_type": "code",
   "execution_count": 13,
   "id": "d6c63f2b",
   "metadata": {},
   "outputs": [],
   "source": [
    "validator.save_expectation_suite(discard_failed_expectations=False)"
   ]
  },
  {
   "cell_type": "code",
   "execution_count": null,
   "id": "4b2c5084",
   "metadata": {},
   "outputs": [],
   "source": []
  }
 ],
 "metadata": {
  "kernelspec": {
   "display_name": "Python [conda env:root] *",
   "language": "python",
   "name": "conda-root-py"
  },
  "language_info": {
   "codemirror_mode": {
    "name": "ipython",
    "version": 3
   },
   "file_extension": ".py",
   "mimetype": "text/x-python",
   "name": "python",
   "nbconvert_exporter": "python",
   "pygments_lexer": "ipython3",
   "version": "3.7.6"
  }
 },
 "nbformat": 4,
 "nbformat_minor": 5
}
