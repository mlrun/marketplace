{
 "cells": [
  {
   "cell_type": "markdown",
   "metadata": {},
   "source": [
    "## BERT Based Sentiment Analysis Model Server\n",
    "The model used here, was trained with the concept of transfer learning  i.e. taking huggingface transformers pretrained BERT model and further training it on a custom dataset of reviews. this yields a sentiment analysis model based on the prior knowledge of BERT. \n",
    "The model server is given a list of texts and outputs a list of labels corresponding to its prediction.\n",
    "The labels express the sentiment of the writer towards the topic of the text:\n",
    "0 for negative sentiment, 1 for neutral and 2 for positive.\n",
    "\n",
    "The model file (~430 MB), can be downloaded to your local environment from: https://iguazio-sample-data.s3.amazonaws.com/models/model.pt"
   ]
  },
  {
   "cell_type": "code",
   "execution_count": null,
   "metadata": {},
   "outputs": [],
   "source": [
    "# define imports\n",
    "import os\n",
    "import wget\n",
    "import mlrun\n",
    "from mlrun import import_function"
   ]
  },
  {
   "cell_type": "code",
   "execution_count": null,
   "metadata": {},
   "outputs": [],
   "source": [
    "# declare global variables\n",
    "MODEL_PATH = os.path.join(os.path.abspath('./'), 'models')"
   ]
  },
  {
   "cell_type": "code",
   "execution_count": 7,
   "metadata": {},
   "outputs": [
    {
     "name": "stdout",
     "output_type": "stream",
     "text": [
      "File ‘/User/myfunctions/functions/sentiment_analysis_serving/models/model.pt’ already there; not retrieving.\n",
      "\n"
     ]
    }
   ],
   "source": [
    "# Run this to download the pre-trained model to your `models` directory\n",
    "def download_pretrained_model(model_path):\n",
    "    model_location = 'https://iguazio-sample-data.s3.amazonaws.com/models/model.pt'\n",
    "    # Create paths\n",
    "    os.makedirs(model_path, exist_ok=1)\n",
    "    model_filepath = os.path.join(model_path, os.path.basename(model_location))\n",
    "    !wget -nc -P {saved_models_directory} {model_location} "
   ]
  },
  {
   "cell_type": "code",
   "execution_count": 8,
   "metadata": {},
   "outputs": [
    {
     "name": "stdout",
     "output_type": "stream",
     "text": [
      "> 2021-03-15 14:38:21,799 [info] model model1 was loaded\n",
      "> 2021-03-15 14:38:21,800 [info] Loaded ['model1']\n"
     ]
    }
   ],
   "source": [
    "model = MODEL_PATH+'/model.pt'\n",
    "    if not path.exists(model):\n",
    "        download_pretrained_model(MODEL_PATH)\n",
    "    fn = import_function('hub://sentiment_analysis_serving')\n",
    "    fn.add_model('mymodel', model_path=model, class_name='SentimentClassifierServing')\n",
    "    # create an emulator (mock server) from the function configuration)\n",
    "    server = fn.to_mock_server()\n",
    "\n"
   ]
  },
  {
   "cell_type": "markdown",
   "metadata": {},
   "source": [
    "#### example 1\n",
    "Here we test a pretty straightforward example for positive sentiment."
   ]
  },
  {
   "cell_type": "code",
   "execution_count": 9,
   "metadata": {},
   "outputs": [
    {
     "name": "stdout",
     "output_type": "stream",
     "text": [
      "[2]\n"
     ]
    }
   ],
   "source": [
    "instances = ['I had a pleasure to work with such dedicated team. Looking forward to \\\n",
    "                 cooperate with each and every one of them again.']\n",
    "result = server.test(\"/v2/models/mymodel/infer\", {\"instances\": instances})\n",
    "result"
   ]
  },
  {
   "cell_type": "markdown",
   "metadata": {},
   "source": [
    "#### example 2\n",
    "Now we will test a couple more examples. These are arguably harder due to misleading words that express, on their own, an opposite sentiment comparing to the full text. "
   ]
  },
  {
   "cell_type": "code",
   "execution_count": 10,
   "metadata": {},
   "outputs": [
    {
     "name": "stdout",
     "output_type": "stream",
     "text": [
      "[0, 2]\n"
     ]
    }
   ],
   "source": [
    "instances = ['This app is amazingly.', \n",
    "                     'As much as I hate to admit it, the new added feature is surprisingly user friendly.']\n",
    "result2 = server.test(\"/v2/models/mymodel/infer\", {\"instances\": instances})\n",
    "result2"
   ]
  },
  {
   "cell_type": "markdown",
   "metadata": {},
   "source": [
    "### remote activation\n",
    "Create a function object with custom specification."
   ]
  },
  {
   "cell_type": "code",
   "execution_count": null,
   "metadata": {},
   "outputs": [],
   "source": [
    "addr = fn.deploy(project='bert-example')"
   ]
  }
 ],
 "metadata": {
  "kernelspec": {
   "display_name": "Python 3",
   "language": "python",
   "name": "python3"
  },
  "language_info": {
   "codemirror_mode": {
    "name": "ipython",
    "version": 3
   },
   "file_extension": ".py",
   "mimetype": "text/x-python",
   "name": "python",
   "nbconvert_exporter": "python",
   "pygments_lexer": "ipython3",
   "version": "3.7.6"
  }
 },
 "nbformat": 4,
 "nbformat_minor": 4
}
